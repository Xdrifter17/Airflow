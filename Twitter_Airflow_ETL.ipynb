{
 "cells": [
  {
   "cell_type": "code",
   "execution_count": 2,
   "id": "d73bcfda",
   "metadata": {},
   "outputs": [
    {
     "name": "stdout",
     "output_type": "stream",
     "text": [
      "Collecting tweepy\n",
      "  Downloading tweepy-4.14.0-py3-none-any.whl (98 kB)\n",
      "     ---------------------------------------- 0.0/98.5 kB ? eta -:--:--\n",
      "     ---------------------------------------- 98.5/98.5 kB 5.9 MB/s eta 0:00:00\n",
      "Collecting oauthlib<4,>=3.2.0 (from tweepy)\n",
      "  Downloading oauthlib-3.2.2-py3-none-any.whl (151 kB)\n",
      "     ---------------------------------------- 0.0/151.7 kB ? eta -:--:--\n",
      "     ---------------------------------------- 151.7/151.7 kB ? eta 0:00:00\n",
      "Requirement already satisfied: requests<3,>=2.27.0 in c:\\users\\samad\\anaconda3\\lib\\site-packages (from tweepy) (2.31.0)\n",
      "Collecting requests-oauthlib<2,>=1.2.0 (from tweepy)\n",
      "  Downloading requests_oauthlib-1.3.1-py2.py3-none-any.whl (23 kB)\n",
      "Requirement already satisfied: charset-normalizer<4,>=2 in c:\\users\\samad\\anaconda3\\lib\\site-packages (from requests<3,>=2.27.0->tweepy) (2.0.4)\n",
      "Requirement already satisfied: idna<4,>=2.5 in c:\\users\\samad\\anaconda3\\lib\\site-packages (from requests<3,>=2.27.0->tweepy) (3.4)\n",
      "Requirement already satisfied: urllib3<3,>=1.21.1 in c:\\users\\samad\\anaconda3\\lib\\site-packages (from requests<3,>=2.27.0->tweepy) (1.26.16)\n",
      "Requirement already satisfied: certifi>=2017.4.17 in c:\\users\\samad\\anaconda3\\lib\\site-packages (from requests<3,>=2.27.0->tweepy) (2023.7.22)\n",
      "Installing collected packages: oauthlib, requests-oauthlib, tweepy\n",
      "Successfully installed oauthlib-3.2.2 requests-oauthlib-1.3.1 tweepy-4.14.0\n",
      "Note: you may need to restart the kernel to use updated packages.\n"
     ]
    }
   ],
   "source": [
    "pip install tweepy"
   ]
  },
  {
   "cell_type": "code",
   "execution_count": 1,
   "id": "76cee5e1",
   "metadata": {},
   "outputs": [],
   "source": [
    "#Importing Libs\n",
    "import tweepy\n",
    "import pandas as pd \n",
    "import json\n",
    "from datetime import datetime\n",
    "import s3fs "
   ]
  },
  {
   "cell_type": "code",
   "execution_count": 3,
   "id": "f559085c",
   "metadata": {},
   "outputs": [],
   "source": [
    "#Giving permissions and access keys.\n",
    "def run_twitter_etl():\n",
    "\n",
    "    access_key = \"Q1AKDKS8SSKVLA7LalU8plKq7\" \n",
    "    access_secret = \"e2hsdkj6Lhd9Fkjjka0y8xgjh1md2pp9kg7yulk8\" \n",
    "    consumer_key = \"320105897-XZasdECakTQnjaKDFRK09M4kasX11FvRUd\"\n",
    "    consumer_secret = \"BYEFGLA78hsxTtB5HgP1BxvtpFEadL9\""
   ]
  },
  {
   "cell_type": "code",
   "execution_count": 5,
   "id": "eebeedaf",
   "metadata": {},
   "outputs": [],
   "source": [
    "# Twitter authentication\n",
    "auth = tweepy.OAuthHandler(access_key, access_secret)   \n",
    "auth.set_access_token(consumer_key, consumer_secret) "
   ]
  },
  {
   "cell_type": "code",
   "execution_count": 8,
   "id": "2ca654af",
   "metadata": {},
   "outputs": [],
   "source": [
    "#Creating an API object \n",
    "api = tweepy.API(auth)\n",
    "tweets = api.user_timeline(screen_name='@elonmusk',\n",
    "        count=200,\n",
    "        include_rts = False,  # Necessary to keep full_text otherwise only the first 140 words will be extracted.\n",
    "        tweet_mode = 'extended'\n",
    "        )                                                                                                                                          "
   ]
  },
  {
   "cell_type": "code",
   "execution_count": 14,
   "id": "4bd2f6bc",
   "metadata": {},
   "outputs": [],
   "source": [
    "list = []\n",
    "    for tweet in tweets:\n",
    "        text = tweet._json[\"full_text\"]\n",
    "\n",
    "        refined_tweet = {\"user\": tweet.user.screen_name,\n",
    "                        'text' : text,\n",
    "                        'favorite_count' : tweet.favorite_count,\n",
    "                        'retweet_count' : tweet.retweet_count,\n",
    "                        'created_at' : tweet.created_at}\n",
    "        \n",
    "        list.append(refined_tweet)"
   ]
  },
  {
   "cell_type": "code",
   "execution_count": 16,
   "id": "251dc1be",
   "metadata": {},
   "outputs": [],
   "source": [
    "df = pd.DataFrame(list)\n",
    "   df.to_csv('refined_tweets.csv')"
   ]
  }
 ],
 "metadata": {
  "kernelspec": {
   "display_name": "Python 3 (ipykernel)",
   "language": "python",
   "name": "python3"
  },
  "language_info": {
   "codemirror_mode": {
    "name": "ipython",
    "version": 3
   },
   "file_extension": ".py",
   "mimetype": "text/x-python",
   "name": "python",
   "nbconvert_exporter": "python",
   "pygments_lexer": "ipython3",
   "version": "3.11.4"
  }
 },
 "nbformat": 4,
 "nbformat_minor": 5
}
